{
 "cells": [
  {
   "cell_type": "markdown",
   "id": "365899c3",
   "metadata": {},
   "source": [
    "## Q1. What is the syntax for adding an element to a list in Python?"
   ]
  },
  {
   "cell_type": "code",
   "execution_count": 2,
   "id": "9530e0ca",
   "metadata": {},
   "outputs": [
    {
     "name": "stdout",
     "output_type": "stream",
     "text": [
      "[1, 2, 3, 4, 5]\n"
     ]
    }
   ],
   "source": [
    "my_list = [1, 2, 3, 4]  # Existing list\n",
    "new_element = 5\n",
    "my_list.append(new_element)\n",
    "print(my_list)  # Output: [1, 2, 3, 4, 5]\n"
   ]
  },
  {
   "cell_type": "code",
   "execution_count": 3,
   "id": "038db76a",
   "metadata": {},
   "outputs": [
    {
     "name": "stdout",
     "output_type": "stream",
     "text": [
      "[1, 2, 5, 3, 4]\n"
     ]
    }
   ],
   "source": [
    "my_list = [1, 2, 3, 4]  # Existing list\n",
    "new_element = 5\n",
    "index = 2  # Inserting at index 2\n",
    "my_list.insert(index, new_element)\n",
    "print(my_list)  # Output: [1, 2, 5, 3, 4]\n"
   ]
  },
  {
   "cell_type": "markdown",
   "id": "8e64a123",
   "metadata": {},
   "source": [
    "## Q2. What is the difference between remove() and pop() functions in Python?"
   ]
  },
  {
   "cell_type": "markdown",
   "id": "c2dd2bf3",
   "metadata": {},
   "source": [
    "remove() removes the first occurrence of a specified value from a list.\n",
    "\n",
    "pop() removes an element at a specified index (or the last element if no index is specified) and returns it.\n",
    "\n",
    "Both functions modify the original list. remove() does not return anything, while pop() returns the removed element."
   ]
  },
  {
   "cell_type": "markdown",
   "id": "72f4edf6",
   "metadata": {},
   "source": [
    "## Q3. Write a Python code to sort a list in descending order."
   ]
  },
  {
   "cell_type": "code",
   "execution_count": 5,
   "id": "8ba7c98a",
   "metadata": {},
   "outputs": [
    {
     "name": "stdout",
     "output_type": "stream",
     "text": [
      "List sorted in descending order: [9, 6, 5, 5, 4, 3, 2, 1, 1]\n"
     ]
    }
   ],
   "source": [
    "my_list = [3, 1, 4, 1, 5, 9, 2, 6, 5]\n",
    "\n",
    "# Sorting the list in descending order\n",
    "my_list.sort(reverse=True)\n",
    "\n",
    "print(\"List sorted in descending order:\", my_list)\n"
   ]
  },
  {
   "cell_type": "markdown",
   "id": "d7b46c0c",
   "metadata": {},
   "source": [
    "## Q4. Write a Python code to count the number of occurrences of an element in a list."
   ]
  },
  {
   "cell_type": "code",
   "execution_count": 8,
   "id": "a9040576",
   "metadata": {},
   "outputs": [
    {
     "name": "stdout",
     "output_type": "stream",
     "text": [
      "Number of occurrences of 1: 3\n"
     ]
    }
   ],
   "source": [
    "my_list = [1, 2, 3, 4, 1, 2, 1, 3, 4, 5]\n",
    "\n",
    "# Count the number of occurrences of 1 in the list\n",
    "count_of_ones = my_list.count(1)\n",
    "\n",
    "print(\"Number of occurrences of 1:\", count_of_ones)\n"
   ]
  },
  {
   "cell_type": "markdown",
   "id": "945ee411",
   "metadata": {},
   "source": [
    "## Q5. Write a Python code to reverse a list."
   ]
  },
  {
   "cell_type": "code",
   "execution_count": 10,
   "id": "ce84a3dd",
   "metadata": {},
   "outputs": [
    {
     "name": "stdout",
     "output_type": "stream",
     "text": [
      "Reversed list: [5, 4, 3, 2, 1]\n"
     ]
    }
   ],
   "source": [
    "my_list = [1, 2, 3, 4, 5]\n",
    "\n",
    "# Reverse the list using slicing\n",
    "reversed_list = my_list[::-1]\n",
    "\n",
    "print(\"Reversed list:\", reversed_list)"
   ]
  },
  {
   "cell_type": "code",
   "execution_count": null,
   "id": "8f2e6ce1",
   "metadata": {},
   "outputs": [],
   "source": []
  }
 ],
 "metadata": {
  "kernelspec": {
   "display_name": "Python 3 (ipykernel)",
   "language": "python",
   "name": "python3"
  },
  "language_info": {
   "codemirror_mode": {
    "name": "ipython",
    "version": 3
   },
   "file_extension": ".py",
   "mimetype": "text/x-python",
   "name": "python",
   "nbconvert_exporter": "python",
   "pygments_lexer": "ipython3",
   "version": "3.11.5"
  }
 },
 "nbformat": 4,
 "nbformat_minor": 5
}
