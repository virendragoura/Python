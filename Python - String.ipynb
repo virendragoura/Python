{
 "cells": [
  {
   "cell_type": "markdown",
   "id": "e675c390",
   "metadata": {},
   "source": [
    "## Q1. How can we store a single quote (‘) as a string in a variable?"
   ]
  },
  {
   "cell_type": "code",
   "execution_count": 1,
   "id": "2268822c",
   "metadata": {},
   "outputs": [
    {
     "name": "stdout",
     "output_type": "stream",
     "text": [
      "'\n"
     ]
    }
   ],
   "source": [
    "single_quote = \"'\"\n",
    "print(single_quote)"
   ]
  },
  {
   "cell_type": "markdown",
   "id": "be6d2887",
   "metadata": {},
   "source": [
    "## Q2. Refer the below variable: x = 'a' Here, is x a character type or string type variable? Support your answer with an explanation."
   ]
  },
  {
   "cell_type": "markdown",
   "id": "759fd11a",
   "metadata": {},
   "source": [
    "\n",
    "In Python, there is no distinct data type for characters like in some other programming languages such as C or C++. Characters are simply strings of length 1 in Python. So, in the given example:"
   ]
  },
  {
   "cell_type": "code",
   "execution_count": 2,
   "id": "553b66b4",
   "metadata": {},
   "outputs": [],
   "source": [
    "x = 'a'\n"
   ]
  },
  {
   "cell_type": "markdown",
   "id": "b01a47be",
   "metadata": {},
   "source": [
    "The variable 'x' is a string type variable. Even though it contains only one character 'a' it is still considered a string in Python. Python does not have a separate data type for single characters like some other languages. This design choice simplifies the language and makes it consistent, as strings are treated uniformly regardless of their length. Therefore, in Python, any variable containing one or more characters is considered a string."
   ]
  },
  {
   "cell_type": "markdown",
   "id": "bb6b208c",
   "metadata": {},
   "source": [
    "## Q3. Apply the following functions on this variable: ‘Welcome to Python foundation course'\n",
    "1. find ()\n",
    "2. count()\n",
    "3. len()\n",
    "4. Concatenation()\n",
    "\n",
    "Note: You can use your choice of parameters. But make sure it is correct."
   ]
  },
  {
   "cell_type": "code",
   "execution_count": 3,
   "id": "4cc6f43b",
   "metadata": {},
   "outputs": [
    {
     "name": "stdout",
     "output_type": "stream",
     "text": [
      "Index of 'Python': 11\n",
      "Number of occurrences of 'o': 6\n",
      "Length of the string: 35\n",
      "Concatenated string: Welcome to Python foundation course - Advanced\n"
     ]
    }
   ],
   "source": [
    "# Define the string variable\n",
    "text = 'Welcome to Python foundation course'\n",
    "\n",
    "# 1. find()\n",
    "print(\"Index of 'Python':\", text.find('Python'))  # Output: 11\n",
    "\n",
    "# 2. count()\n",
    "print(\"Number of occurrences of 'o':\", text.count('o'))  # Output: 5\n",
    "\n",
    "# 3. len()\n",
    "print(\"Length of the string:\", len(text))  # Output: 32\n",
    "\n",
    "# 4. Concatenation()\n",
    "new_text = text + ' - Advanced'  # Concatenating ' - Advanced' to the original string\n",
    "print(\"Concatenated string:\", new_text)  # Output: Welcome to Python foundation course - Advanced\n"
   ]
  },
  {
   "cell_type": "markdown",
   "id": "cc53f977",
   "metadata": {},
   "source": [
    "## Q4. For the variable: word = 'PanaJi@123456' Calculate the following:\n",
    "(a) Total number of alphabets in lowercase\n",
    "\n",
    "(b) Total number of alphabets in uppercase\n",
    "\n",
    "(c) Total number of numer1cal in string"
   ]
  },
  {
   "cell_type": "code",
   "execution_count": 7,
   "id": "afa9d0bb",
   "metadata": {},
   "outputs": [
    {
     "name": "stdout",
     "output_type": "stream",
     "text": [
      "(a) Total number of alphabets in lowercase: 4\n",
      "(b) Total number of alphabets in uppercase: 2\n",
      "(c) Total number of numerical in string: 6\n"
     ]
    }
   ],
   "source": [
    "word = 'PanaJi@123456'\n",
    "\n",
    "# (a) Total number of alphabets in lowercase\n",
    "lowercase_count = sum(1 for char in word if char.islower())\n",
    "print(\"(a) Total number of alphabets in lowercase:\", lowercase_count)  \n",
    "\n",
    "# (b) Total number of alphabets in uppercase\n",
    "uppercase_count = sum(1 for char in word if char.isupper())\n",
    "print(\"(b) Total number of alphabets in uppercase:\", uppercase_count)  \n",
    "\n",
    "# (c) Total number of numerical in string\n",
    "numeric_count = sum(1 for char in word if char.isdigit())\n",
    "print(\"(c) Total number of numerical in string:\", numeric_count) \n"
   ]
  },
  {
   "cell_type": "markdown",
   "id": "b6d96f1a",
   "metadata": {},
   "source": [
    "## Q5. Write a code to store a numerical value inside a variable then convert it into string."
   ]
  },
  {
   "cell_type": "code",
   "execution_count": 8,
   "id": "7c472c7f",
   "metadata": {},
   "outputs": [
    {
     "name": "stdout",
     "output_type": "stream",
     "text": [
      "Original numerical value: 123\n",
      "Converted string value: 123\n"
     ]
    }
   ],
   "source": [
    "# Store a numerical value in a variable\n",
    "number = 123\n",
    "\n",
    "# Convert the numerical value to a string\n",
    "number_as_string = str(number)\n",
    "\n",
    "# Print the original numerical value and the converted string\n",
    "print(\"Original numerical value:\", number)\n",
    "print(\"Converted string value:\", number_as_string)\n"
   ]
  },
  {
   "cell_type": "code",
   "execution_count": null,
   "id": "10bd69ff",
   "metadata": {},
   "outputs": [],
   "source": []
  }
 ],
 "metadata": {
  "kernelspec": {
   "display_name": "Python 3 (ipykernel)",
   "language": "python",
   "name": "python3"
  },
  "language_info": {
   "codemirror_mode": {
    "name": "ipython",
    "version": 3
   },
   "file_extension": ".py",
   "mimetype": "text/x-python",
   "name": "python",
   "nbconvert_exporter": "python",
   "pygments_lexer": "ipython3",
   "version": "3.11.5"
  }
 },
 "nbformat": 4,
 "nbformat_minor": 5
}
