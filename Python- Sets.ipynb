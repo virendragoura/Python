{
 "cells": [
  {
   "cell_type": "markdown",
   "id": "e643da8d",
   "metadata": {},
   "source": [
    "## Q1. What is a set in Python?"
   ]
  },
  {
   "cell_type": "markdown",
   "id": "381e618e",
   "metadata": {},
   "source": [
    "A set in Python is an unordered collection of unique elements. It does not allow duplicates, and the elements are unordered. Sets are mutable and are commonly used for tasks like removing duplicates, performing set operations, and testing membership efficiently."
   ]
  },
  {
   "cell_type": "markdown",
   "id": "fa197943",
   "metadata": {},
   "source": [
    "## Q2. What is the difference between remove() and pop() functions in Python?"
   ]
  },
  {
   "cell_type": "markdown",
   "id": "f969c076",
   "metadata": {},
   "source": [
    "remove() is used to remove a specific element from a list by value.\n",
    "\n",
    "pop() is used to remove an element from a list by index and returns the removed element."
   ]
  },
  {
   "cell_type": "markdown",
   "id": "8c167626",
   "metadata": {},
   "source": [
    "## Q3. Write a Python code to sort a list in descending order."
   ]
  },
  {
   "cell_type": "code",
   "execution_count": 1,
   "id": "5f3394f1",
   "metadata": {},
   "outputs": [
    {
     "name": "stdout",
     "output_type": "stream",
     "text": [
      "List sorted in descending order: [9, 6, 5, 5, 4, 3, 2, 1, 1]\n"
     ]
    }
   ],
   "source": [
    "my_list = [3, 1, 4, 1, 5, 9, 2, 6, 5]\n",
    "\n",
    "# Sorting the list in descending order\n",
    "my_list.sort(reverse=True)\n",
    "\n",
    "print(\"List sorted in descending order:\", my_list)\n"
   ]
  },
  {
   "cell_type": "markdown",
   "id": "3352c227",
   "metadata": {},
   "source": [
    "## Q4. Write a Python code to count the number of occurrences of an element in a list."
   ]
  },
  {
   "cell_type": "code",
   "execution_count": 2,
   "id": "20ac4737",
   "metadata": {},
   "outputs": [
    {
     "name": "stdout",
     "output_type": "stream",
     "text": [
      "Number of occurrences of 1: 3\n"
     ]
    }
   ],
   "source": [
    "my_list = [1, 2, 3, 4, 1, 2, 1, 3, 4, 5]\n",
    "\n",
    "# Count the number of occurrences of 1 in the list\n",
    "count_of_ones = my_list.count(1)\n",
    "\n",
    "print(\"Number of occurrences of 1:\", count_of_ones)\n"
   ]
  },
  {
   "cell_type": "markdown",
   "id": "c78dba68",
   "metadata": {},
   "source": [
    "## Q5. Write a Python code to reverse a list."
   ]
  },
  {
   "cell_type": "code",
   "execution_count": 3,
   "id": "3aac47ad",
   "metadata": {},
   "outputs": [
    {
     "name": "stdout",
     "output_type": "stream",
     "text": [
      "Reversed list: [5, 4, 3, 2, 1]\n"
     ]
    }
   ],
   "source": [
    "my_list = [1, 2, 3, 4, 5]\n",
    "\n",
    "# Reverse the list using slicing\n",
    "reversed_list = my_list[::-1]\n",
    "\n",
    "print(\"Reversed list:\", reversed_list)"
   ]
  },
  {
   "cell_type": "code",
   "execution_count": null,
   "id": "4447a7a5",
   "metadata": {},
   "outputs": [],
   "source": []
  }
 ],
 "metadata": {
  "kernelspec": {
   "display_name": "Python 3 (ipykernel)",
   "language": "python",
   "name": "python3"
  },
  "language_info": {
   "codemirror_mode": {
    "name": "ipython",
    "version": 3
   },
   "file_extension": ".py",
   "mimetype": "text/x-python",
   "name": "python",
   "nbconvert_exporter": "python",
   "pygments_lexer": "ipython3",
   "version": "3.11.5"
  }
 },
 "nbformat": 4,
 "nbformat_minor": 5
}
