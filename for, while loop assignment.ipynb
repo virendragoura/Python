{
 "cells": [
  {
   "cell_type": "markdown",
   "id": "ae8a2801",
   "metadata": {},
   "source": [
    "## Q1. Explain with an example each when to use a for loop and a while loop."
   ]
  },
  {
   "cell_type": "markdown",
   "id": "fdcae4cf",
   "metadata": {},
   "source": [
    "For loop is used when the number of iterations is already known. \n",
    "While loop is used when the number of iterations is already Unknown. "
   ]
  },
  {
   "cell_type": "code",
   "execution_count": 4,
   "id": "fb3aea6f",
   "metadata": {},
   "outputs": [
    {
     "name": "stdout",
     "output_type": "stream",
     "text": [
      "[4, 1089, 16, 25, 36]\n"
     ]
    }
   ],
   "source": [
    "# for loop example\n",
    "l=[2,33,4,5,6]\n",
    "l1=[]\n",
    "for i in l:\n",
    "    l1.append(i**2)\n",
    "print(l1)"
   ]
  },
  {
   "cell_type": "code",
   "execution_count": 5,
   "id": "1f306b1d",
   "metadata": {},
   "outputs": [
    {
     "name": "stdout",
     "output_type": "stream",
     "text": [
      "enter your number5\n",
      "0\n",
      "1\n",
      "1\n",
      "2\n",
      "3\n"
     ]
    }
   ],
   "source": [
    "# while loop example\n",
    "# finonacci series\n",
    "number=int(input(\"enter your number\"))\n",
    "a,b = 0,1\n",
    "counter=0\n",
    "while counter < number:\n",
    "    print(a)\n",
    "    c=a+b\n",
    "    a=b\n",
    "    b=c\n",
    "    counter=counter+1"
   ]
  },
  {
   "cell_type": "markdown",
   "id": "90b96902",
   "metadata": {},
   "source": [
    "## Q2. Write a python program to print the sum and product of the first 10 natural numbers using for and while loop."
   ]
  },
  {
   "cell_type": "markdown",
   "id": "805e7790",
   "metadata": {},
   "source": [
    "### sum : "
   ]
  },
  {
   "cell_type": "code",
   "execution_count": 3,
   "id": "ce98f93f",
   "metadata": {},
   "outputs": [
    {
     "data": {
      "text/plain": [
       "55"
      ]
     },
     "execution_count": 3,
     "metadata": {},
     "output_type": "execute_result"
    }
   ],
   "source": [
    "sum=0\n",
    "s=[1,2,3,4,5,6,7,8,9,10]\n",
    "for i in s:\n",
    "     sum += i\n",
    "    \n",
    "sum"
   ]
  },
  {
   "cell_type": "code",
   "execution_count": 1,
   "id": "c19087ff",
   "metadata": {},
   "outputs": [
    {
     "name": "stdout",
     "output_type": "stream",
     "text": [
      "enter your number10\n"
     ]
    },
    {
     "data": {
      "text/plain": [
       "55"
      ]
     },
     "execution_count": 1,
     "metadata": {},
     "output_type": "execute_result"
    }
   ],
   "source": [
    "    num=int(input(\"enter your number\"))\n",
    "if num < 0:\n",
    "   print(\"Enter a positive number\")\n",
    "else:\n",
    "   sum = 0\n",
    "   while(num > 0):\n",
    "       sum += num\n",
    "       num -= 1\n",
    "sum"
   ]
  },
  {
   "cell_type": "markdown",
   "id": "d7e49602",
   "metadata": {},
   "source": [
    "### product :"
   ]
  },
  {
   "cell_type": "code",
   "execution_count": 4,
   "id": "f48997cd",
   "metadata": {},
   "outputs": [
    {
     "data": {
      "text/plain": [
       "3628800"
      ]
     },
     "execution_count": 4,
     "metadata": {},
     "output_type": "execute_result"
    }
   ],
   "source": [
    "s=[1,2,3,4,5,6,7,8,9,10]\n",
    "p=1\n",
    "for i in s:\n",
    "      p= p*i\n",
    "    \n",
    "p"
   ]
  },
  {
   "cell_type": "code",
   "execution_count": 2,
   "id": "5c8e069c",
   "metadata": {},
   "outputs": [
    {
     "name": "stdout",
     "output_type": "stream",
     "text": [
      "enter your number : 10\n"
     ]
    },
    {
     "data": {
      "text/plain": [
       "3628800"
      ]
     },
     "execution_count": 2,
     "metadata": {},
     "output_type": "execute_result"
    }
   ],
   "source": [
    "num=int(input(\"enter your number : \"))\n",
    "i=1\n",
    "pro=1\n",
    "while(i<=num):\n",
    "    pro=pro*i\n",
    "    i=i+1\n",
    "pro       "
   ]
  },
  {
   "cell_type": "markdown",
   "id": "97736a7d",
   "metadata": {},
   "source": [
    "## Q3. Create a python program to compute the electricity bill for a household. The per-unit charges in rupees are as follows: For the first 100 units, the user will be charged Rs. 4.5 per unit, for the next 100 units, the user will be charged Rs. 6 per unit, and for the next 100 units, the user will be charged Rs. 10 per unit, After 300 units and above the user will be charged Rs. 20 per unit. \n",
    "## You are required to take the units of electricity consumed in a month from the user as input. \n",
    "## Your program must pass this test case: when the unit of electricity consumed by the user in a month is 310, the total electricity bill should be 2250."
   ]
  },
  {
   "cell_type": "code",
   "execution_count": 17,
   "id": "31d6d8e1",
   "metadata": {},
   "outputs": [
    {
     "name": "stdout",
     "output_type": "stream",
     "text": [
      "Enter the units of electricity consumed in a month: 310\n",
      "The total electricity bill is Rs. 2250.00\n"
     ]
    }
   ],
   "source": [
    "# Function to calculate the electricity bill\n",
    "def calculate_electricity_bill(units):\n",
    "    if units <= 100:\n",
    "        bill = units * 4.5\n",
    "    elif units <= 200:\n",
    "        bill = 100 * 4.5 + (units - 100) * 6\n",
    "    elif units <= 300:\n",
    "        bill = 100 * 4.5 + 100 * 6 + (units - 200) * 10\n",
    "    else:\n",
    "        bill = 100 * 4.5 + 100 * 6 + 100 * 10 + (units - 300) * 20\n",
    "\n",
    "    return bill\n",
    "\n",
    "units_consumed = int(input(\"Enter the units of electricity consumed in a month: \"))\n",
    "\n",
    "total_bill = calculate_electricity_bill(units_consumed)\n",
    "\n",
    "print(f\"The total electricity bill is Rs. {total_bill:.2f}\")"
   ]
  },
  {
   "cell_type": "markdown",
   "id": "40a9ecff",
   "metadata": {},
   "source": [
    "## Q4. Create a list of numbers from 1 to 100. Use for loop and while loop to calculate the cube of each number and if the cube of that number is divisible by 4 or 5 then append that number in a list and print that list."
   ]
  },
  {
   "cell_type": "code",
   "execution_count": 14,
   "id": "691313f9",
   "metadata": {},
   "outputs": [
    {
     "name": "stdout",
     "output_type": "stream",
     "text": [
      "[2, 4, 5, 6, 8, 10, 12, 14, 15, 16, 18, 20, 22, 24, 25, 26, 28, 30, 32, 34, 35, 36, 38, 40, 42, 44, 45, 46, 48, 50, 52, 54, 55, 56, 58, 60, 62, 64, 65, 66, 68, 70, 72, 74, 75, 76, 78, 80, 82, 84, 85, 86, 88, 90, 92, 94, 95, 96, 98, 100]\n"
     ]
    }
   ],
   "source": [
    "# Using a for loop\n",
    "cubes = []\n",
    "\n",
    "for num in range(1, 101):\n",
    "    cube = num ** 3\n",
    "    if cube % 4 == 0 or cube % 5 == 0:\n",
    "        cubes.append(num)\n",
    "\n",
    "print(cubes)\n"
   ]
  },
  {
   "cell_type": "code",
   "execution_count": 12,
   "id": "dd6db99a",
   "metadata": {},
   "outputs": [
    {
     "name": "stdout",
     "output_type": "stream",
     "text": [
      "[2, 4, 5, 6, 8, 10, 12, 14, 15, 16, 18, 20, 22, 24, 25, 26, 28, 30, 32, 34, 35, 36, 38, 40, 42, 44, 45, 46, 48, 50, 52, 54, 55, 56, 58, 60, 62, 64, 65, 66, 68, 70, 72, 74, 75, 76, 78, 80, 82, 84, 85, 86, 88, 90, 92, 94, 95, 96, 98, 100]\n"
     ]
    }
   ],
   "source": [
    "# Using a while loop\n",
    "cubes = []\n",
    "num = 1\n",
    "\n",
    "while num <= 100:\n",
    "    cube = num ** 3\n",
    "    if cube % 4 == 0 or cube % 5 == 0:\n",
    "        cubes.append(num)\n",
    "    num += 1\n",
    "\n",
    "print(cubes)\n"
   ]
  },
  {
   "cell_type": "markdown",
   "id": "372e6694",
   "metadata": {},
   "source": [
    "# Q5. Write a program to filter count vowels in the below-given string.\n",
    "## string = \"I want to become a data scientist\""
   ]
  },
  {
   "cell_type": "code",
   "execution_count": 19,
   "id": "86908ae7",
   "metadata": {},
   "outputs": [
    {
     "name": "stdout",
     "output_type": "stream",
     "text": [
      "Total vowels in the string : 12\n"
     ]
    }
   ],
   "source": [
    "string = \"I want to become a data scientist\"\n",
    "vowel_count = 0\n",
    "vowels = set(\"aeiouAEIOU\")\n",
    "for char in string:\n",
    "    if char in vowels:\n",
    "        vowel_count += 1\n",
    "print(\"Total vowels in the string :\", vowel_count)\n"
   ]
  },
  {
   "cell_type": "code",
   "execution_count": null,
   "id": "fb971275",
   "metadata": {},
   "outputs": [],
   "source": []
  }
 ],
 "metadata": {
  "kernelspec": {
   "display_name": "Python 3 (ipykernel)",
   "language": "python",
   "name": "python3"
  },
  "language_info": {
   "codemirror_mode": {
    "name": "ipython",
    "version": 3
   },
   "file_extension": ".py",
   "mimetype": "text/x-python",
   "name": "python",
   "nbconvert_exporter": "python",
   "pygments_lexer": "ipython3",
   "version": "3.11.4"
  }
 },
 "nbformat": 4,
 "nbformat_minor": 5
}
