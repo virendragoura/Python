{
 "cells": [
  {
   "cell_type": "markdown",
   "id": "7d5221f1",
   "metadata": {},
   "source": [
    "## Q1. Explain Class and Object with respect to Object-Oriented Programming. Give a suitable example."
   ]
  },
  {
   "cell_type": "markdown",
   "id": "4371db70",
   "metadata": {},
   "source": [
    "### class : \n",
    " A class is a blueprint or template for creating objects. \n",
    "It defines the structure and behavior that objects created from the class will have.\n",
    "Think of a class as a blueprint for a specific type of object. \n",
    "It specifies the attributes (data) and methods (functions) that objects of that class will possess.\n",
    "Classes enable code reusability and help organize your program by encapsulating related data and behavior into a single unit."
   ]
  },
  {
   "cell_type": "code",
   "execution_count": 9,
   "id": "8f74ce54",
   "metadata": {},
   "outputs": [],
   "source": [
    "class Person:\n",
    "    def __init__(self, name, age):\n",
    "        self.name = name\n",
    "        self.age = age\n",
    "\n",
    "    def info(self):\n",
    "        print(f\"Hello, my name is {self.name}, and I am {self.age} years old.\")"
   ]
  },
  {
   "cell_type": "markdown",
   "id": "29d8f894",
   "metadata": {},
   "source": [
    "### object : \n",
    "An object is an instance of a class. \n",
    "It is a concrete realization of the class blueprint, with specific values for its attributes.\n",
    "Objects represent specific entities or instances of the category defined by the class. \n",
    "They can interact with other objects and perform actions based on the methods defined in the class."
   ]
  },
  {
   "cell_type": "code",
   "execution_count": 11,
   "id": "ac1027a5",
   "metadata": {},
   "outputs": [
    {
     "name": "stdout",
     "output_type": "stream",
     "text": [
      "Hello, my name is virendra, and I am 18 years old.\n",
      "Hello, my name is ram, and I am 25 years old.\n"
     ]
    }
   ],
   "source": [
    "person1 = Person(\"virendra\",18)\n",
    "person2 = Person(\"ram\", 25)\n",
    "\n",
    "person1.info()  \n",
    "person2.info() "
   ]
  },
  {
   "cell_type": "markdown",
   "id": "2e7756f1",
   "metadata": {},
   "source": [
    "## Q2. Name the four pillars of OOPs."
   ]
  },
  {
   "cell_type": "markdown",
   "id": "2b9722d4",
   "metadata": {},
   "source": [
    "1. Encapsulation : Encapsulation is the process of wrapping code and data together into a single unit.\n",
    "\n",
    "2. Inheritance : Allowing a class to inherit properties and behaviors from another class, promoting code reuse.\n",
    "\n",
    "3. Polymorphism : Polymorphism is the ability to perform many things in many ways.\n",
    "\n",
    "4. Abstraction : Abstraction is a property of hiding the internal implementation and highlighting the setup services beneficial to the user."
   ]
  },
  {
   "cell_type": "markdown",
   "id": "94944347",
   "metadata": {},
   "source": [
    "## Q3. Explain why the __init__() function is used. Give a suitable example."
   ]
  },
  {
   "cell_type": "markdown",
   "id": "6a3a3113",
   "metadata": {},
   "source": [
    "The __init__() function in Python is used to initialize the attributes of an object when it is created. It acts as a constructor, allowing you to pass initial values to the object's attributes. Here's a concise example :"
   ]
  },
  {
   "cell_type": "code",
   "execution_count": 19,
   "id": "3f3b5ac9",
   "metadata": {},
   "outputs": [],
   "source": [
    "class Person:\n",
    "    def __init__(self, name, age):\n",
    "        self.name = name\n",
    "        self.age = age\n",
    "\n",
    "person1 = Person(\"virendra\", 18)"
   ]
  },
  {
   "cell_type": "markdown",
   "id": "c17cdfa2",
   "metadata": {},
   "source": [
    "## Q4. Why self is used in OOPs?"
   ]
  },
  {
   "cell_type": "markdown",
   "id": "8f3e623b",
   "metadata": {},
   "source": [
    "The “self” keyword represents the instance of the class. By using the “self” keyword, we can access the attributes and methods of the class. It is useful in method definitions and in variable initialization. The “self” is explicitly used every time we define a method."
   ]
  },
  {
   "cell_type": "markdown",
   "id": "37109b83",
   "metadata": {},
   "source": [
    "## Q5. What is inheritance? Give an example for each type of inheritance."
   ]
  },
  {
   "cell_type": "markdown",
   "id": "4bfedb5d",
   "metadata": {},
   "source": [
    "Inheritance is a fundamental concept in Object-Oriented Programming (OOP) that allows a new class (subclass or derived class) to inherit properties and behaviors from an existing class (superclass or base class). It promotes code reuse and establishes an \"is-a\" relationship between classes. There are various types of inheritance, including single, multiple, multilevel, hierarchical, and hybrid inheritance. I'll provide an example for each type of inheritance:"
   ]
  },
  {
   "cell_type": "markdown",
   "id": "84d89777",
   "metadata": {},
   "source": [
    "### 1. Single Inheritance:\n",
    "In single inheritance, a subclass inherits from a single superclass. This is the simplest form of inheritance."
   ]
  },
  {
   "cell_type": "code",
   "execution_count": 31,
   "id": "3d83fd51",
   "metadata": {},
   "outputs": [],
   "source": [
    "class Animal:\n",
    "    def speak(self):\n",
    "        pass\n",
    "\n",
    "class Cat(Animal):\n",
    "    def speak(self):\n",
    "        return \"Meow!\""
   ]
  },
  {
   "cell_type": "markdown",
   "id": "414327d3",
   "metadata": {},
   "source": [
    "### 2. Multiple Inheritance:\n",
    "Multiple inheritance occurs when a subclass inherits from two or more superclasses. The subclass inherits attributes and methods from multiple classes."
   ]
  },
  {
   "cell_type": "code",
   "execution_count": 32,
   "id": "6f0fbd8c",
   "metadata": {},
   "outputs": [],
   "source": [
    "class Phone:\n",
    "    def make_call(self):\n",
    "        pass\n",
    "\n",
    "class Computer:\n",
    "    def compute(self):\n",
    "        pass\n",
    "\n",
    "class Smartphone(Phone, Computer):\n",
    "    def send_email(self):\n",
    "        pass"
   ]
  },
  {
   "cell_type": "markdown",
   "id": "bc54bad8",
   "metadata": {},
   "source": [
    "### 3. Multilevel Inheritance:\n",
    "Multilevel inheritance involves a chain of inheritance where a class is derived from a subclass, which itself is derived from another class."
   ]
  },
  {
   "cell_type": "code",
   "execution_count": 33,
   "id": "3f3adf13",
   "metadata": {},
   "outputs": [],
   "source": [
    "class Parent:\n",
    "    def parent_method(self):\n",
    "        pass\n",
    "\n",
    "class Child(Parent):\n",
    "    def child_method(self):\n",
    "        pass\n",
    "\n",
    "class Grandchild(Child):\n",
    "    def grandchild_method(self):\n",
    "        pass"
   ]
  },
  {
   "cell_type": "markdown",
   "id": "db17e36f",
   "metadata": {},
   "source": [
    "### 4. Hierarchical Inheritance:\n",
    "In hierarchical inheritance, multiple classes inherit from a single superclass. This means that more than one subclass is derived from a common base class."
   ]
  },
  {
   "cell_type": "code",
   "execution_count": 34,
   "id": "4cac894d",
   "metadata": {},
   "outputs": [],
   "source": [
    "class Car:\n",
    "    def drive(self):\n",
    "        pass\n",
    "\n",
    "class SUV(Car):\n",
    "    def carry_people(self):\n",
    "        pass\n",
    "\n",
    "class Sedan(Car):\n",
    "    def sporty_drive(self):\n",
    "        pass"
   ]
  },
  {
   "cell_type": "markdown",
   "id": "75ee9034",
   "metadata": {},
   "source": [
    "### 5. Hybrid Inheritance:\n",
    "Hybrid inheritance is a combination of two or more types of inheritance within a single program."
   ]
  },
  {
   "cell_type": "code",
   "execution_count": 35,
   "id": "00ca278f",
   "metadata": {},
   "outputs": [],
   "source": [
    "class Vehicle:\n",
    "    def move(self):\n",
    "        pass\n",
    "\n",
    "class Robot:\n",
    "    def perform_tasks(self):\n",
    "        pass\n",
    "\n",
    "class MobileRobot(Vehicle, Robot):\n",
    "    def control_remote(self):\n",
    "        pass"
   ]
  }
 ],
 "metadata": {
  "kernelspec": {
   "display_name": "Python 3 (ipykernel)",
   "language": "python",
   "name": "python3"
  },
  "language_info": {
   "codemirror_mode": {
    "name": "ipython",
    "version": 3
   },
   "file_extension": ".py",
   "mimetype": "text/x-python",
   "name": "python",
   "nbconvert_exporter": "python",
   "pygments_lexer": "ipython3",
   "version": "3.11.4"
  }
 },
 "nbformat": 4,
 "nbformat_minor": 5
}
